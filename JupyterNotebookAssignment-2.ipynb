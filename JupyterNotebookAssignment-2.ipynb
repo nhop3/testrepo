{
  "metadata": {
    "language_info": {
      "codemirror_mode": {
        "name": "python",
        "version": 3
      },
      "file_extension": ".py",
      "mimetype": "text/x-python",
      "name": "python",
      "nbconvert_exporter": "python",
      "pygments_lexer": "ipython3",
      "version": "3.8"
    },
    "kernelspec": {
      "name": "python",
      "display_name": "Pyolite",
      "language": "python"
    }
  },
  "nbformat_minor": 4,
  "nbformat": 4,
  "cells": [
    {
      "cell_type": "markdown",
      "source": "# My Jupyter Notebook on IBM Watson Studio",
      "metadata": {}
    },
    {
      "cell_type": "markdown",
      "source": "**Noriko Hopkins** <br>\nData Scientist",
      "metadata": {}
    },
    {
      "cell_type": "markdown",
      "source": "*I am interested in data science because it is fascinating to find the insights from data.*",
      "metadata": {}
    },
    {
      "cell_type": "markdown",
      "source": "### The following code writes \"Hello, World!\"",
      "metadata": {}
    },
    {
      "cell_type": "code",
      "source": "print(\"Hello, World!\")",
      "metadata": {
        "trusted": true
      },
      "execution_count": 1,
      "outputs": [
        {
          "name": "stdout",
          "text": "Hello, World!\n",
          "output_type": "stream"
        }
      ]
    },
    {
      "cell_type": "markdown",
      "source": "- item\n- item\n- item\n\n1. one\n2. two\n3. three <br>\n\n\nCol1 |Col2 |Col3\n-----|-----|----- \nData1|Data2|Data3\nData1|Data2|Data3",
      "metadata": {}
    }
  ]
}